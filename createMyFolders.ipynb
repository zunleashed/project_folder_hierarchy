{
 "cells": [
  {
   "cell_type": "code",
   "execution_count": 1,
   "id": "5323aeaf",
   "metadata": {},
   "outputs": [],
   "source": [
    "def createMyFolders(folder_names_list: list, destination: str):\n",
    "    \"\"\"\n",
    "    desitination: absolute path\n",
    "    \"\"\"\n",
    "    import os\n",
    "\n",
    "    if not os.path.exists(destination): # check if destination exists\n",
    "        print(f\"Destination does NOT exists: {destination}\")\n",
    "        return\n",
    "    \n",
    "    # loop thru all folder names and attempt to create them\n",
    "    for folder_name in folder_names_list:\n",
    "        folder_path = os.path.join(destination, folder_name)\n",
    "        try:\n",
    "            if os.path.exists(folder_path):\n",
    "                print(f\"folder exists: {folder_path}\")\n",
    "            elif not os.path.exists(folder_path):\n",
    "                os.makedirs(folder_path, exist_ok=True)\n",
    "                print(f\"Created folder: {folder_path}\")\n",
    "        except Exception as e:\n",
    "            print(f\"Failed to create folder {folder_path}: {e}\")\n",
    "\n",
    "    return None\n",
    "\n"
   ]
  },
  {
   "cell_type": "code",
   "execution_count": 2,
   "id": "5a36e10c",
   "metadata": {},
   "outputs": [
    {
     "name": "stdout",
     "output_type": "stream",
     "text": [
      "Created folder: C:\\project_folder_hierarchy\\raw-data\n",
      "Created folder: C:\\project_folder_hierarchy\\cleaned-data\n",
      "Created folder: C:\\project_folder_hierarchy\\results\n"
     ]
    }
   ],
   "source": [
    "needFolders = ['raw-data', 'cleaned-data', 'results']\n",
    "myDestination = r'C:\\project_folder_hierarchy'\n",
    "\n",
    "createMyFolders(folder_names_list=needFolders, destination=myDestination)"
   ]
  },
  {
   "cell_type": "code",
   "execution_count": null,
   "id": "21572c9b",
   "metadata": {},
   "outputs": [],
   "source": [
    "def remove_folder(folders:list, destination: str):\n",
    "    \"\"\"\n",
    "    Remove the test folders permanently if needed.\n",
    "    \"\"\"\n",
    "    import os\n",
    "    import shutil\n",
    "\n",
    "    for folder_name in folders:\n",
    "        folder_path = os.path.join(destination, folder_name)\n",
    "        try:\n",
    "            if os.path.exists(folder_path):\n",
    "                shutil.rmtree(folder_path)\n",
    "                print(f\"Removed folder: {folder_path}\")\n",
    "            else:\n",
    "                print(f\"Folder does not exist: {folder_path}\") \n",
    "        except Exception as e:\n",
    "            print(f\"Failed to remove folder {folder_path}: {e}\")\n",
    "    return None\n"
   ]
  },
  {
   "cell_type": "code",
   "execution_count": 4,
   "id": "d99dc7bb",
   "metadata": {},
   "outputs": [
    {
     "name": "stdout",
     "output_type": "stream",
     "text": [
      "Removed folder: C:\\project_folder_hierarchy\\raw-data\n",
      "Removed folder: C:\\project_folder_hierarchy\\cleaned-data\n",
      "Removed folder: C:\\project_folder_hierarchy\\results\n"
     ]
    }
   ],
   "source": [
    "remove_folder(folders=needFolders, destination=myDestination)"
   ]
  },
  {
   "cell_type": "code",
   "execution_count": 5,
   "id": "6e4a9a40",
   "metadata": {},
   "outputs": [],
   "source": [
    "def createMyFoldersFiles(content: dict, destination: str):\n",
    "    \"\"\"\n",
    "    desitination: absolute path\n",
    "    \"\"\"\n",
    "    import os\n",
    "\n",
    "    if not os.path.exists(destination): # check if destination exists\n",
    "        print(f\"Destination does NOT exists: {destination}\")\n",
    "        return\n",
    "    \n",
    "    # loop thru all folder names and attempt to create both folders and files\n",
    "    folder_names_list = content.get('folders', [])\n",
    "    file_names_list = content.get('files', []) \n",
    "      \n",
    "    for folder_name in folder_names_list:\n",
    "        folder_path = os.path.join(destination, folder_name)\n",
    "        try:\n",
    "            os.makedirs(folder_path, exist_ok=True)\n",
    "            print(f\"Created folder: {folder_path}\")\n",
    "        except Exception as e:\n",
    "            print(f\"Failed to create folder {folder_path}: {e}\")\n",
    "\n",
    "    return None"
   ]
  },
  {
   "cell_type": "code",
   "execution_count": null,
   "id": "9edaa2db",
   "metadata": {},
   "outputs": [],
   "source": []
  }
 ],
 "metadata": {
  "kernelspec": {
   "display_name": "Python 3",
   "language": "python",
   "name": "python3"
  },
  "language_info": {
   "codemirror_mode": {
    "name": "ipython",
    "version": 3
   },
   "file_extension": ".py",
   "mimetype": "text/x-python",
   "name": "python",
   "nbconvert_exporter": "python",
   "pygments_lexer": "ipython3",
   "version": "3.13.5"
  }
 },
 "nbformat": 4,
 "nbformat_minor": 5
}
